{
  "nbformat": 4,
  "nbformat_minor": 0,
  "metadata": {
    "colab": {
      "name": "Data Import",
      "provenance": [],
      "collapsed_sections": []
    },
    "kernelspec": {
      "name": "python3",
      "display_name": "Python 3"
    },
    "language_info": {
      "name": "python"
    }
  },
  "cells": [
    {
      "cell_type": "markdown",
      "metadata": {
        "id": "tpi1pxOlmATb"
      },
      "source": [
        "### **Import Library**"
      ]
    },
    {
      "cell_type": "code",
      "metadata": {
        "colab": {
          "base_uri": "https://localhost:8080/"
        },
        "id": "DcGe9F_fTPcj",
        "outputId": "9e5badad-99a6-4802-a152-0fba867127e0"
      },
      "source": [
        "# USE csv.reader() TO READ A TSV FILE\n",
        "\n",
        "import pandas as pd\n",
        "import csv\n",
        "csv.field_size_limit(10000000) # set field limit in row data\n",
        "\n",
        "#tsv_file\n",
        "#with open(\"SINGGALANG.tsv\") as fd:\n",
        "#    rd = csv.reader(fd, delimiter=\"\\t\", quotechar='\"')\n",
        "#    for row in rd:\n",
        "#        print(row)"
      ],
      "execution_count": 158,
      "outputs": [
        {
          "output_type": "execute_result",
          "data": {
            "text/plain": [
              "10000000"
            ]
          },
          "metadata": {},
          "execution_count": 158
        }
      ]
    },
    {
      "cell_type": "markdown",
      "metadata": {
        "id": "n0WEdcwW7mxA"
      },
      "source": [
        "### **Import Data**"
      ]
    },
    {
      "cell_type": "code",
      "metadata": {
        "colab": {
          "base_uri": "https://localhost:8080/"
        },
        "id": "dNZQtkOo7qe0",
        "outputId": "87be9e2a-4c8b-40dd-9560-80c3a5dc8061"
      },
      "source": [
        "df = pd.read_csv('SINGGALANG.tsv',sep='\\t',header=None,names=[\"Tokens\",\"Tags\"],error_bad_lines=False, engine=\"python\")"
      ],
      "execution_count": 159,
      "outputs": [
        {
          "output_type": "stream",
          "name": "stderr",
          "text": [
            "Skipping line 263233: '\t' expected after '\"'\n",
            "Skipping line 712939: unexpected end of data\n"
          ]
        }
      ]
    },
    {
      "cell_type": "code",
      "metadata": {
        "colab": {
          "base_uri": "https://localhost:8080/",
          "height": 408
        },
        "id": "0cCb7inN7tQ2",
        "outputId": "a97237e9-f6f2-4b69-f998-438e4be74630"
      },
      "source": [
        "df"
      ],
      "execution_count": 160,
      "outputs": [
        {
          "output_type": "execute_result",
          "data": {
            "text/html": [
              "<div>\n",
              "<style scoped>\n",
              "    .dataframe tbody tr th:only-of-type {\n",
              "        vertical-align: middle;\n",
              "    }\n",
              "\n",
              "    .dataframe tbody tr th {\n",
              "        vertical-align: top;\n",
              "    }\n",
              "\n",
              "    .dataframe thead th {\n",
              "        text-align: right;\n",
              "    }\n",
              "</style>\n",
              "<table border=\"1\" class=\"dataframe\">\n",
              "  <thead>\n",
              "    <tr style=\"text-align: right;\">\n",
              "      <th></th>\n",
              "      <th>Tokens</th>\n",
              "      <th>Tags</th>\n",
              "    </tr>\n",
              "  </thead>\n",
              "  <tbody>\n",
              "    <tr>\n",
              "      <th>0</th>\n",
              "      <td>Ia</td>\n",
              "      <td>O</td>\n",
              "    </tr>\n",
              "    <tr>\n",
              "      <th>1</th>\n",
              "      <td>menjabat</td>\n",
              "      <td>O</td>\n",
              "    </tr>\n",
              "    <tr>\n",
              "      <th>2</th>\n",
              "      <td>sebagai</td>\n",
              "      <td>O</td>\n",
              "    </tr>\n",
              "    <tr>\n",
              "      <th>3</th>\n",
              "      <td>Presiden</td>\n",
              "      <td>O</td>\n",
              "    </tr>\n",
              "    <tr>\n",
              "      <th>4</th>\n",
              "      <td>ketiga</td>\n",
              "      <td>O</td>\n",
              "    </tr>\n",
              "    <tr>\n",
              "      <th>...</th>\n",
              "      <td>...</td>\n",
              "      <td>...</td>\n",
              "    </tr>\n",
              "    <tr>\n",
              "      <th>689899</th>\n",
              "      <td>zgjidhet</td>\n",
              "      <td>O</td>\n",
              "    </tr>\n",
              "    <tr>\n",
              "      <th>689900</th>\n",
              "      <td>presidente</td>\n",
              "      <td>O</td>\n",
              "    </tr>\n",
              "    <tr>\n",
              "      <th>689901</th>\n",
              "      <td>e</td>\n",
              "      <td>O</td>\n",
              "    </tr>\n",
              "    <tr>\n",
              "      <th>689902</th>\n",
              "      <td>Republikës</td>\n",
              "      <td>O</td>\n",
              "    </tr>\n",
              "    <tr>\n",
              "      <th>689903</th>\n",
              "      <td>''</td>\n",
              "      <td>O</td>\n",
              "    </tr>\n",
              "  </tbody>\n",
              "</table>\n",
              "<p>689904 rows × 2 columns</p>\n",
              "</div>"
            ],
            "text/plain": [
              "            Tokens Tags\n",
              "0               Ia    O\n",
              "1         menjabat    O\n",
              "2          sebagai    O\n",
              "3         Presiden    O\n",
              "4           ketiga    O\n",
              "...            ...  ...\n",
              "689899    zgjidhet    O\n",
              "689900  presidente    O\n",
              "689901           e    O\n",
              "689902  Republikës    O\n",
              "689903          ''    O\n",
              "\n",
              "[689904 rows x 2 columns]"
            ]
          },
          "metadata": {},
          "execution_count": 160
        }
      ]
    },
    {
      "cell_type": "markdown",
      "metadata": {
        "id": "dZCMcFF0pqFs"
      },
      "source": [
        "# **DATA PREPROCESSING**"
      ]
    },
    {
      "cell_type": "code",
      "metadata": {
        "colab": {
          "base_uri": "https://localhost:8080/"
        },
        "id": "-ZvJlzjezoQ5",
        "outputId": "781443c9-9f99-4aca-8414-c9aa1cddc70a"
      },
      "source": [
        "df.shape"
      ],
      "execution_count": 161,
      "outputs": [
        {
          "output_type": "execute_result",
          "data": {
            "text/plain": [
              "(689904, 2)"
            ]
          },
          "metadata": {},
          "execution_count": 161
        }
      ]
    },
    {
      "cell_type": "code",
      "metadata": {
        "colab": {
          "base_uri": "https://localhost:8080/"
        },
        "id": "elu6j4S14fcL",
        "outputId": "8807f4ad-f7cc-41f6-a8f8-11a23d0310e9"
      },
      "source": [
        "df.info"
      ],
      "execution_count": 163,
      "outputs": [
        {
          "output_type": "execute_result",
          "data": {
            "text/plain": [
              "<bound method DataFrame.info of             Tokens Tags\n",
              "0               Ia    O\n",
              "1         menjabat    O\n",
              "2          sebagai    O\n",
              "3         Presiden    O\n",
              "4           ketiga    O\n",
              "...            ...  ...\n",
              "689899    zgjidhet    O\n",
              "689900  presidente    O\n",
              "689901           e    O\n",
              "689902  Republikës    O\n",
              "689903          ''    O\n",
              "\n",
              "[689904 rows x 2 columns]>"
            ]
          },
          "metadata": {},
          "execution_count": 163
        }
      ]
    },
    {
      "cell_type": "code",
      "metadata": {
        "id": "id6W5Opp74Zd"
      },
      "source": [
        ""
      ],
      "execution_count": null,
      "outputs": []
    }
  ]
}