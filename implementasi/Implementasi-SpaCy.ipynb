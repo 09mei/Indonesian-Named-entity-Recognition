{
 "cells": [
  {
   "cell_type": "code",
   "execution_count": 1,
   "metadata": {},
   "outputs": [],
   "source": [
    "#mengimport library yang diperlukan untuk membaca data\n",
    "import pandas as pd\n",
    "import numpy as np\n",
    "df = pd.read_csv(\"SINGGALANG_.csv\", sep = ';')"
   ]
  },
  {
   "cell_type": "code",
   "execution_count": 2,
   "metadata": {},
   "outputs": [
    {
     "data": {
      "text/html": [
       "<div>\n",
       "<style scoped>\n",
       "    .dataframe tbody tr th:only-of-type {\n",
       "        vertical-align: middle;\n",
       "    }\n",
       "\n",
       "    .dataframe tbody tr th {\n",
       "        vertical-align: top;\n",
       "    }\n",
       "\n",
       "    .dataframe thead th {\n",
       "        text-align: right;\n",
       "    }\n",
       "</style>\n",
       "<table border=\"1\" class=\"dataframe\">\n",
       "  <thead>\n",
       "    <tr style=\"text-align: right;\">\n",
       "      <th></th>\n",
       "      <th>Ia\\tO</th>\n",
       "      <th>Unnamed: 1</th>\n",
       "    </tr>\n",
       "  </thead>\n",
       "  <tbody>\n",
       "    <tr>\n",
       "      <th>0</th>\n",
       "      <td>menjabat\\tO</td>\n",
       "      <td>NaN</td>\n",
       "    </tr>\n",
       "    <tr>\n",
       "      <th>1</th>\n",
       "      <td>sebagai\\tO</td>\n",
       "      <td>NaN</td>\n",
       "    </tr>\n",
       "    <tr>\n",
       "      <th>2</th>\n",
       "      <td>Presiden\\tO</td>\n",
       "      <td>NaN</td>\n",
       "    </tr>\n",
       "    <tr>\n",
       "      <th>3</th>\n",
       "      <td>ketiga\\tO</td>\n",
       "      <td>NaN</td>\n",
       "    </tr>\n",
       "    <tr>\n",
       "      <th>4</th>\n",
       "      <td>Mesir\\tPlace</td>\n",
       "      <td>NaN</td>\n",
       "    </tr>\n",
       "    <tr>\n",
       "      <th>5</th>\n",
       "      <td>pada\\tO</td>\n",
       "      <td>NaN</td>\n",
       "    </tr>\n",
       "    <tr>\n",
       "      <th>6</th>\n",
       "      <td>periode\\tO</td>\n",
       "      <td>NaN</td>\n",
       "    </tr>\n",
       "    <tr>\n",
       "      <th>7</th>\n",
       "      <td>15\\tO</td>\n",
       "      <td>NaN</td>\n",
       "    </tr>\n",
       "    <tr>\n",
       "      <th>8</th>\n",
       "      <td>Oktober\\tO</td>\n",
       "      <td>NaN</td>\n",
       "    </tr>\n",
       "    <tr>\n",
       "      <th>9</th>\n",
       "      <td>1970\\tO</td>\n",
       "      <td>NaN</td>\n",
       "    </tr>\n",
       "    <tr>\n",
       "      <th>10</th>\n",
       "      <td>hingga\\tO</td>\n",
       "      <td>NaN</td>\n",
       "    </tr>\n",
       "    <tr>\n",
       "      <th>11</th>\n",
       "      <td>terbunuhnya\\tO</td>\n",
       "      <td>NaN</td>\n",
       "    </tr>\n",
       "    <tr>\n",
       "      <th>12</th>\n",
       "      <td>pada\\tO</td>\n",
       "      <td>NaN</td>\n",
       "    </tr>\n",
       "    <tr>\n",
       "      <th>13</th>\n",
       "      <td>6\\tO</td>\n",
       "      <td>NaN</td>\n",
       "    </tr>\n",
       "    <tr>\n",
       "      <th>14</th>\n",
       "      <td>Oktober\\tO</td>\n",
       "      <td>NaN</td>\n",
       "    </tr>\n",
       "    <tr>\n",
       "      <th>15</th>\n",
       "      <td>1981\\tO</td>\n",
       "      <td>NaN</td>\n",
       "    </tr>\n",
       "    <tr>\n",
       "      <th>16</th>\n",
       "      <td>.\\tO</td>\n",
       "      <td>NaN</td>\n",
       "    </tr>\n",
       "    <tr>\n",
       "      <th>17</th>\n",
       "      <td>NaN</td>\n",
       "      <td>NaN</td>\n",
       "    </tr>\n",
       "    <tr>\n",
       "      <th>18</th>\n",
       "      <td>Oleh\\tO</td>\n",
       "      <td>NaN</td>\n",
       "    </tr>\n",
       "    <tr>\n",
       "      <th>19</th>\n",
       "      <td>dunia\\tO</td>\n",
       "      <td>NaN</td>\n",
       "    </tr>\n",
       "    <tr>\n",
       "      <th>20</th>\n",
       "      <td>Barat\\tO</td>\n",
       "      <td>NaN</td>\n",
       "    </tr>\n",
       "    <tr>\n",
       "      <th>21</th>\n",
       "      <td>ia\\tO</td>\n",
       "      <td>NaN</td>\n",
       "    </tr>\n",
       "    <tr>\n",
       "      <th>22</th>\n",
       "      <td>dianggap\\tO</td>\n",
       "      <td>NaN</td>\n",
       "    </tr>\n",
       "    <tr>\n",
       "      <th>23</th>\n",
       "      <td>sebagai\\tO</td>\n",
       "      <td>NaN</td>\n",
       "    </tr>\n",
       "    <tr>\n",
       "      <th>24</th>\n",
       "      <td>orang\\tO</td>\n",
       "      <td>NaN</td>\n",
       "    </tr>\n",
       "  </tbody>\n",
       "</table>\n",
       "</div>"
      ],
      "text/plain": [
       "             Ia\\tO Unnamed: 1\n",
       "0      menjabat\\tO        NaN\n",
       "1       sebagai\\tO        NaN\n",
       "2      Presiden\\tO        NaN\n",
       "3        ketiga\\tO        NaN\n",
       "4     Mesir\\tPlace        NaN\n",
       "5          pada\\tO        NaN\n",
       "6       periode\\tO        NaN\n",
       "7            15\\tO        NaN\n",
       "8       Oktober\\tO        NaN\n",
       "9          1970\\tO        NaN\n",
       "10       hingga\\tO        NaN\n",
       "11  terbunuhnya\\tO        NaN\n",
       "12         pada\\tO        NaN\n",
       "13            6\\tO        NaN\n",
       "14      Oktober\\tO        NaN\n",
       "15         1981\\tO        NaN\n",
       "16            .\\tO        NaN\n",
       "17             NaN        NaN\n",
       "18         Oleh\\tO        NaN\n",
       "19        dunia\\tO        NaN\n",
       "20        Barat\\tO        NaN\n",
       "21           ia\\tO        NaN\n",
       "22     dianggap\\tO        NaN\n",
       "23      sebagai\\tO        NaN\n",
       "24        orang\\tO        NaN"
      ]
     },
     "execution_count": 2,
     "metadata": {},
     "output_type": "execute_result"
    }
   ],
   "source": [
    "df.head(25)"
   ]
  },
  {
   "cell_type": "code",
   "execution_count": 3,
   "metadata": {},
   "outputs": [],
   "source": [
    "# import library untuk preprocessing data\n",
    "from nltk.tokenize import word_tokenize\n",
    "import itertools\n",
    "import re\n",
    "import pandas as pd\n",
    "import numpy as np\n",
    "import string\n",
    "from tqdm import tqdm"
   ]
  },
  {
   "cell_type": "code",
   "execution_count": 4,
   "metadata": {},
   "outputs": [],
   "source": [
    "def convert_to_spaCyformat(df, listOfEntities):\n",
    "    \"\"\"\n",
    "    Fungsi ini digunakan untuk mengubah BIO-tagged-DF kedalam format SpaCy Annotations\n",
    "    \"\"\"\n",
    "    # memeriksa jika ditemukan value null\n",
    "    assert not (df.iloc[:,0].isnull().any() or df.iloc[:,1].isnull().any()),\n",
    "    \n",
    "    # membuat kamus kata kumpulan token kata dan tag\n",
    "    dictTemp = {}\n",
    "    dictTemp['token'] = np.array(df.iloc[:,0])\n",
    "    dictTemp['BIO_tag'] = np.array(df.iloc[:,1].str.lower())\n",
    "    dictTemp['indices'] = np.array([len(i) for i in dictTemp['token']])\n",
    "\n",
    "    # pertama kita memerlukan index pertama token dan tag\n",
    "    total_idx = [dictTemp['indices'][0]] \n",
    "    temp = dictTemp['indices'][0]\n",
    "    \n",
    "    # kemudian dilakukan perulangan untuk menghitung jumlah index\n",
    "    for i in range(len(dictTemp['indices'])):\n",
    "        if i > 0:\n",
    "            temp += dictTemp['indices'][i]\n",
    "            total_idx.append(temp)\n",
    "\n",
    "    # membuat variabel dari start index\n",
    "    dictTemp['start_idx'] = np.array([total_idx[i-1] if i > 0 else 0 for i in range(len(total_idx))])\n",
    "\n",
    "    # membuat variabel dari last index\n",
    "    dictTemp['end_idx'] = np.array(total_idx)\n",
    "    del dictTemp['indices'] \n",
    "\n",
    "    enti = {}\n",
    "    entities = []\n",
    "    text = ''.join(dictTemp['token'])\n",
    "    \n",
    "    # mengombinasikan setiap daftar entity dengan awalan 'b-', 'i-', and 'e-' pada annotation\n",
    "    listOfEntities = ['b-'+i.lower() for i in listOfEntities] + \\\n",
    "                     ['i-'+i.lower() for i in listOfEntities] + \\\n",
    "                     ['e-'+i.lower() for i in listOfEntities] + ['o']\n",
    "    \n",
    "    # memeriksa apakah ada tag pada entity\n",
    "    error_tag = []\n",
    "    error_boolean = []\n",
    "    for i in np.unique(dictTemp['BIO_tag']):\n",
    "        if i in listOfEntities:\n",
    "            error_boolean.append(True)\n",
    "        else:\n",
    "            error_boolean.append(False)\n",
    "            error_tag.append(i)\n",
    "    assert all(error_boolean), \"Some BIO-tag not listed in listOfEntities arg. {}\".format(error_tag)\n",
    "    \n",
    "    # mengisi entitas dengan non 'O' annotations\n",
    "    for row in range(len(dictTemp['token'])):\n",
    "        if dictTemp['BIO_tag'][row] != 'o':\n",
    "            entities.append((dictTemp['start_idx'][row], \n",
    "                             dictTemp['end_idx'][row], \n",
    "                             dictTemp['BIO_tag'][row]))\n",
    "\n",
    "    \n",
    "    start = []\n",
    "    end = []\n",
    "    BIO = []\n",
    "    i = 0\n",
    "    while i < len(entities):\n",
    "        try:\n",
    "            if entities[i][2][2:] == entities[i+1][2][2:]:\n",
    "                if entities[i][2][0] is 'b':\n",
    "#                     print('start1', entities[i][0])\n",
    "                    start.append(entities[i][0])\n",
    "                    i += 1\n",
    "                    if entities[i][2][0] is 'e':\n",
    "#                         print('end1a', entities[i][1])\n",
    "                        end.append(entities[i][1])\n",
    "                        BIO.append(entities[i][2][2:])\n",
    "                        i += 1\n",
    "                        continue\n",
    "                    elif entities[i][2][0] is 'i':\n",
    "                        for j in range(i, len(entities)):\n",
    "                            if entities[j][2][0] is not 'e' and j < len(entities)-1:\n",
    "#                                 print('sana', entities[j])\n",
    "                                continue\n",
    "                            elif entities[j][2][0] is 'e':\n",
    "#                                 print('end1b', entities[j][1])\n",
    "                                end.append(entities[j][1])\n",
    "                                BIO.append(entities[j][2][2:])\n",
    "                                i = j+1\n",
    "                                break\n",
    "                            else:\n",
    "                                assert 1 == 0, \\\n",
    "                                    \"Something error in the BIO-tag you wrote. Error BIO tag: '{}'\" \\\n",
    "                                    .format(entities[j][2])\n",
    "                    elif entities[i][2][0] is 'b':\n",
    "#                         print('end1b', entities[i-1][1])\n",
    "                        end.append(entities[i-1][1])\n",
    "                        BIO.append(entities[i-1][2][2:])\n",
    "                        continue\n",
    "                        \n",
    "#                         print('ss',i,j)\n",
    "            else:\n",
    "#                 print('start2a', entities[i][0], i)\n",
    "                start.append(entities[i][0])\n",
    "#                 print('end2a', entities[i][1], i)\n",
    "                end.append(entities[i][1])\n",
    "                BIO.append(entities[i][2][2:])\n",
    "                i += 1\n",
    "        except IndexError:\n",
    "#             print('start2b', entities[i][0], i)\n",
    "            start.append(entities[i][0])\n",
    "#             print('end2b', entities[i][1], i)\n",
    "            end.append(entities[i][1])\n",
    "            BIO.append(entities[i][2][2:])\n",
    "            i += 1\n",
    "\n",
    "    enti['entities'] = [(i,j,k) for i,j,k in zip(start, end, BIO)]\n",
    "    return [text, enti]"
   ]
  },
  {
   "cell_type": "code",
   "execution_count": 6,
   "metadata": {},
   "outputs": [
    {
     "data": {
      "text/plain": [
       "['organisation', 'person', 'place']"
      ]
     },
     "execution_count": 6,
     "metadata": {},
     "output_type": "execute_result"
    }
   ],
   "source": [
    "# annotations adalah setiap tag yang digunakan untuk memberi keterangan pada setiap entity\n",
    "annotations = sorted(['organisation',\n",
    "               'person',\n",
    "               'place',\n",
    "               ])\n",
    "annotations"
   ]
  },
  {
   "cell_type": "code",
   "execution_count": 7,
   "metadata": {},
   "outputs": [],
   "source": [
    "train_data = convert_to_spaCyformat(df, annotations)"
   ]
  },
  {
   "cell_type": "markdown",
   "metadata": {},
   "source": [
    "### Training"
   ]
  },
  {
   "cell_type": "code",
   "execution_count": 8,
   "metadata": {},
   "outputs": [
    {
     "data": {
      "text/plain": [
       "['IamenjabatsebagaiPresidenketigaMesirpadaperiode15Oktober1970hinggaterbunuhnyapada6Oktober1981.OlehduniaBaratiadianggapsebagaiorangyangsangatberpengaruhdiMesirdandiTimurTengahdalamsejarahmodern.SadatdilahirkandiMitAbuAl-KumAl-MinufiyahMesirdalamsebuahkeluargaMesir-sudanyangmiskindengan12saudaralaki-lakidanperempuan.IalulusdariAkademiMiliterKerajaandiKairopada1938danditempatkandiKorpsIsyarat.IabergabungdenganGerakanPerwiraBebasyangbertekaduntukmembebaskanMesirdarikekuasaanBritaniaRaya.',\n",
       " {'entities': [(31, 36, 'place'),\n",
       "   (153, 158, 'place'),\n",
       "   (193, 198, 'person'),\n",
       "   (234, 239, 'place'),\n",
       "   (341, 349, 'place'),\n",
       "   (351, 356, 'place'),\n",
       "   (457, 462, 'place'),\n",
       "   (475, 483, 'place'),\n",
       "   (483, 487, 'place')]}]"
      ]
     },
     "execution_count": 8,
     "metadata": {},
     "output_type": "execute_result"
    }
   ],
   "source": [
    "# data yang digunakan untuk training data\n",
    "train_data"
   ]
  },
  {
   "cell_type": "code",
   "execution_count": 9,
   "metadata": {},
   "outputs": [],
   "source": [
    "# import library yang digunakan untuk membuat model Named Entity Recognition\n",
    "import spacy\n",
    "from spacy import displacy\n",
    "from spacy.util import minibatch, compounding\n",
    "from spacy.util import decaying\n",
    "from thinc.optimizers import Adam\n",
    "import random\n",
    "from matplotlib import pyplot as plt"
   ]
  },
  {
   "cell_type": "code",
   "execution_count": 10,
   "metadata": {},
   "outputs": [],
   "source": [
    "from spacy.training.example import Example"
   ]
  },
  {
   "cell_type": "code",
   "execution_count": 11,
   "metadata": {},
   "outputs": [],
   "source": [
    "# fungsi ini digunakan untuk membuat optimizer pada pelatihan model\n",
    "def custom_optimizer(optimizer, learn_rate=0.0001, beta1=0.9, beta2=0.999, eps=1e-8, L2=1e-6, max_grad_norm=1.0):\n",
    "    \"\"\"\n",
    "    Function to customizer spaCy default optimizer\n",
    "    \"\"\"\n",
    "    \n",
    "    optimizer.learn_rate = learn_rate\n",
    "    optimizer.eps = eps\n",
    "    optimizer.L2 = L2\n",
    "    \n",
    "    return optimizer\n",
    "\n",
    "def train_spacy(data, \n",
    "                iterations, \n",
    "                learn_rate=0.001, \n",
    "                beta1=0.9, \n",
    "                beta2=0.999, \n",
    "                eps=1e-8, \n",
    "                L2=1e-4, \n",
    "                max_grad_norm=1.0):\n",
    "    \"\"\"Load the model, set up the pipeline and train the entity recognizer.\"\"\"\n",
    "    \n",
    "    # pada dasarnya, steps yang harus dilakukan untuk mentraining model NER di spaCy adalah sbb:\n",
    "    # 1. instantiate blank model. blank model ini isi tasknya bisa bermacam2. tapi kita hanya butuh task untuk NER\n",
    "    # 2. karena kita hanya butuh task NER, kita define task (pipe) bernama 'ner'\n",
    "    # 3. setelah itu, labels yang sudah dipersiapkan di training data diadd ke dalam pipe ner tsb\n",
    "    # 4. seperti yg disebutkan di poin 1 di atas, task model itu bisa bermacam2. tapi karena kita hanya butuh task NER, makanya task/pipe lain harus kita disable agar tidak ditraining\n",
    "    # 5. definisikan grad descent optimizer, yaitu menggunakan Adam optimizer. pada method begin_training(), kita bisa mengganti hyperparameters pada model menggunakan arg \"component_cfg\" yang inputnya berbentuk dict of dicts {'<jenis pipe>': {'<hyperparameter>': value}}. kalau mau tau keys apa saja yg tersedia untuk hyperparameters tsb, setelah model selesai ditraining lalu disave, coba buka folder tempat model disave. lalu di dalam folder tsb, buka folder \"ner\". di dalam folder \"ner\", ada file bernama \"cfg\". file tsb melist semua hyperparameters yg tersedia pada model dan valuesnya.\n",
    "    # 6. jika kita masih ingin tuning optimizernya, kita bisa menggunakan func custom_optimizer\n",
    "    # 7. kalau kita mau menggunakan mekanisme dropout, kita bisa menggunakan func \"decaying\"\n",
    "    # 8. mulai lakukan iterasi untuk training. iteration = epoch. kita melakukan training sejumlah n epochs. lalu tiap 1 epoch, kita melakukan training sebanyak m minibatches\n",
    "    # 9. kita menggunakan func minibatch untuk mensplit training data sebanyak x size. func minibatch menerima input arg \"size\" dalam bentuk iterator, contohnya func compounding yg berfungsi untuk membuat iterator dengan args \"start\" sebagai nilai awal, \"end\" sebagai nilai max, dan \"compound\" sebagai kelipatan untuk dikali dengan nilai pada \"Start\". baca di sini https://spacy.io/api/top-level#util.minibatch\n",
    "    # 10. func minibatch akan menghasilkan generator. dari generator tsb, kita melakukan update (forward propagation dan back propagation) pada model menggunakan method update()\n",
    "    # 11. setelah seluruh minibatches pada 1 epoch/iteration selesai, proses pada epoch berikutnya akan dilakukan. terus seperti itu hingga mencapai epoch terakhir\n",
    "        \n",
    "    TRAIN_DATA = data\n",
    "    nlp = spacy.blank('id')  # create blank Language class\n",
    "    # create the built-in pipeline components and add them to the pipeline\n",
    "    # nlp.create_pipe works for built-ins that are registered with spaCy\n",
    "    if 'ner' not in nlp.pipe_names:\n",
    "        ner = nlp.add_pipe('ner')\n",
    "       \n",
    "\n",
    "    # add labels\n",
    "    for _, annotations in TRAIN_DATA:\n",
    "         for ent in annotations.get('entities'):\n",
    "            ner.add_label(ent[2])\n",
    "\n",
    "    # get names of other pipes to disable them during training\n",
    "    other_pipes = [pipe for pipe in nlp.pipe_names if pipe != 'ner']\n",
    "    with nlp.disable_pipes(*other_pipes):  # only train NER\n",
    "        \n",
    "        # additional lines\n",
    "        optimizer = nlp.begin_training()\n",
    "        optimizer = custom_optimizer(optimizer, learn_rate=learn_rate)\n",
    "        # Define decaying dropout\n",
    "#         dropout = decaying(0.8, 0.2, 1e-6)\n",
    "        \n",
    "#         optimizer = nlp.begin_training()\n",
    "        loss_list = []\n",
    "        for itn in range(iterations):\n",
    "            print(\"Starting iteration \" + str(itn))\n",
    "            random.shuffle(TRAIN_DATA)\n",
    "            losses = {}\n",
    "            \n",
    "            # batch up the examples using spaCy's minibatch\n",
    "            batches = minibatch(TRAIN_DATA, size=compounding(4.0, 64.0, 1.001))\n",
    "            \n",
    "            for batch in batches:\n",
    "                texts, annotations = zip(*batch)\n",
    "                example = []\n",
    "                # Update the model with iterating each text\n",
    "                for i in range(len(texts)):\n",
    "                    doc = nlp.make_doc(texts[i])\n",
    "                    example.append(Example.from_dict(doc, annotations[i]))\n",
    "            \n",
    "                # Update the model\n",
    "                nlp.update(example, drop=0.5, losses=losses)\n",
    "            \n",
    "#             for text, annotations in TRAIN_DATA:\n",
    "#                 nlp.update(\n",
    "#                     [text],  # batch of texts\n",
    "#                     [annotations],  # batch of annotations\n",
    "#                     drop=next(dropout),  # dropout - make it harder to memorise data\n",
    "#                     sgd=optimizer,  # callable to update weights\n",
    "#                     losses=losses)\n",
    "\n",
    "            print(losses)\n",
    "            loss_list.append(losses)\n",
    "        \n",
    "    return nlp, loss_list"
   ]
  },
  {
   "cell_type": "code",
   "execution_count": 12,
   "metadata": {},
   "outputs": [
    {
     "name": "stdout",
     "output_type": "stream",
     "text": [
      "Starting iteration 0\n",
      "{'ner': 10.399999089539051}\n",
      "Starting iteration 1\n",
      "{'ner': 10.079597473144531}\n",
      "Starting iteration 2\n",
      "{'ner': 9.63653889298439}\n",
      "Starting iteration 3\n",
      "{'ner': 9.178568452596664}"
     ]
    },
    {
     "name": "stderr",
     "output_type": "stream",
     "text": [
      "C:\\Users\\Alfendo Situmorang\\anaconda3\\lib\\site-packages\\spacy\\training\\iob_utils.py:144: UserWarning: [W030] Some entities could not be aligned in the text \"IamenjabatsebagaiPresidenketigaMesirpadaperiode15O...\" with entities \"[(31, 36, 'place'), (153, 158, 'place'), (193, 198...\". Use `spacy.training.offsets_to_biluo_tags(nlp.make_doc(text), entities)` to check the alignment. Misaligned entities ('-') will be ignored during training.\n",
      "  entities=ent_str[:50] + \"...\" if len(ent_str) > 50 else ent_str,\n"
     ]
    },
    {
     "name": "stdout",
     "output_type": "stream",
     "text": [
      "\n",
      "Starting iteration 4\n",
      "{'ner': 8.77165912091732}\n",
      "Starting iteration 5\n",
      "{'ner': 8.419042579829693}\n",
      "Starting iteration 6\n",
      "{'ner': 7.771491892635822}\n",
      "Starting iteration 7\n",
      "{'ner': 7.39468277990818}\n",
      "Starting iteration 8\n",
      "{'ner': 6.0585529282689095}\n",
      "Starting iteration 9\n",
      "{'ner': 4.502773452550173}\n",
      "Starting iteration 10\n",
      "{'ner': 2.9381379932165146}\n",
      "Starting iteration 11\n",
      "{'ner': 3.469950096681714}\n",
      "Starting iteration 12\n",
      "{'ner': 2.1478246301412582}\n",
      "Starting iteration 13\n",
      "{'ner': 0.9035310694016516}\n",
      "Starting iteration 14\n",
      "{'ner': 0.8962597523350269}\n",
      "Starting iteration 15\n",
      "{'ner': 0.3488295420684153}\n",
      "Starting iteration 16\n",
      "{'ner': 0.22442835094989277}\n",
      "Starting iteration 17\n",
      "{'ner': 0.12410465577886498}\n",
      "Starting iteration 18\n",
      "{'ner': 0.03127716522993751}\n",
      "Starting iteration 19\n",
      "{'ner': 0.032759857369740075}\n",
      "Starting iteration 20\n",
      "{'ner': 0.0004488068864576533}\n",
      "Starting iteration 21\n",
      "{'ner': 0.020522494917589285}\n",
      "Starting iteration 22\n",
      "{'ner': 0.009479454000227427}\n",
      "Starting iteration 23\n",
      "{'ner': 0.00082971627833607}\n",
      "Starting iteration 24\n",
      "{'ner': 0.00020226237613928517}\n",
      "Starting iteration 25\n",
      "{'ner': 0.0002780410850451974}\n",
      "Starting iteration 26\n",
      "{'ner': 6.784364023510908e-06}\n",
      "Starting iteration 27\n",
      "{'ner': 8.141294087506242e-09}\n",
      "Starting iteration 28\n",
      "{'ner': 3.5543720695365225e-07}\n",
      "Starting iteration 29\n",
      "{'ner': 1.5953200794999054e-09}\n",
      "Starting iteration 30\n",
      "{'ner': 2.794845566533288e-09}\n",
      "Starting iteration 31\n",
      "{'ner': 4.532967543182343e-09}\n",
      "Starting iteration 32\n",
      "{'ner': 3.4307768746367176e-14}\n",
      "Starting iteration 33\n",
      "{'ner': 4.896270872665385e-10}\n",
      "Starting iteration 34\n",
      "{'ner': 2.469426569112648e-12}\n",
      "Starting iteration 35\n",
      "{'ner': 7.433354991081585e-15}\n",
      "Starting iteration 36\n",
      "{'ner': 5.888972836325632e-13}\n",
      "Starting iteration 37\n",
      "{'ner': 1.078841831621809e-14}\n",
      "Starting iteration 38\n",
      "{'ner': 4.059547814711765e-19}\n",
      "Starting iteration 39\n",
      "{'ner': 2.984403955746886e-16}\n",
      "Starting iteration 40\n",
      "{'ner': 6.831107012729599e-18}\n",
      "Starting iteration 41\n",
      "{'ner': 6.295785448966217e-15}\n",
      "Starting iteration 42\n",
      "{'ner': 3.908658172579129e-14}\n",
      "Starting iteration 43\n",
      "{'ner': 1.0343145870681465e-11}\n",
      "Starting iteration 44\n",
      "{'ner': 1.0714045497919568e-17}\n",
      "Starting iteration 45\n",
      "{'ner': 1.4542575986885657e-17}\n",
      "Starting iteration 46\n",
      "{'ner': 1.5174104099933696e-17}\n",
      "Starting iteration 47\n",
      "{'ner': 1.056028597901127e-08}\n",
      "Starting iteration 48\n",
      "{'ner': 5.006759620475747e-18}\n",
      "Starting iteration 49\n",
      "{'ner': 4.721102573427711e-22}\n"
     ]
    }
   ],
   "source": [
    "# training model\n",
    "model, loss = train_spacy([train_data], 50)"
   ]
  },
  {
   "cell_type": "code",
   "execution_count": 13,
   "metadata": {},
   "outputs": [],
   "source": [
    "from matplotlib import pyplot as plt"
   ]
  },
  {
   "cell_type": "code",
   "execution_count": 14,
   "metadata": {},
   "outputs": [
    {
     "data": {
      "image/png": "[encoded data removed]",
      "text/plain": [
       "<Figure size 864x576 with 1 Axes>"
      ]
     },
     "metadata": {
      "needs_background": "light"
     },
     "output_type": "display_data"
    }
   ],
   "source": [
    "# hasil visualisasi training model\n",
    "plt.figure(figsize=(12,8))\n",
    "plt.plot([i['ner'] for i in loss])\n",
    "plt.grid()\n",
    "plt.title('Loss Function')\n",
    "plt.xlabel('Epoch')\n",
    "plt.ylabel('Loss')\n",
    "plt.show()"
   ]
  },
  {
   "cell_type": "code",
   "execution_count": 27,
   "metadata": {},
   "outputs": [
    {
     "name": "stdout",
     "output_type": "stream",
     "text": [
      "Enter your Model Name: Model_NER\n"
     ]
    }
   ],
   "source": [
    "# menyimpan model yang telah dibuat\n",
    "# nama model adalah Model_NER\n",
    "modelfile = input(\"Enter your Model Name: \")\n",
    "model.to_disk(modelfile)"
   ]
  },
  {
   "cell_type": "code",
   "execution_count": 28,
   "metadata": {},
   "outputs": [],
   "source": [
    "# import model untuk menampilkan hasil Named Entity Recognition\n",
    "from spacy import load, displacy"
   ]
  },
  {
   "cell_type": "code",
   "execution_count": 29,
   "metadata": {},
   "outputs": [],
   "source": [
    "link_to_model = \"Model_NER\"\n",
    "loaded_model = load(link_to_model)"
   ]
  },
  {
   "cell_type": "code",
   "execution_count": 30,
   "metadata": {},
   "outputs": [],
   "source": [
    "# Test text yang digunakan adalah potongan kata berikut\n",
    "test_text = \"\"\"Ia menjabat sebagai Presiden ketiga Mesir\"\"\""
   ]
  },
  {
   "cell_type": "code",
   "execution_count": 31,
   "metadata": {},
   "outputs": [
    {
     "data": {
      "text/html": [
       "<span class=\"tex2jax_ignore\"><div class=\"entities\" style=\"line-height: 2.5; direction: ltr\">Ia menjabat sebagai Presiden ketiga Mesir</div></span>"
      ],
      "text/plain": [
       "<IPython.core.display.HTML object>"
      ]
     },
     "metadata": {},
     "output_type": "display_data"
    }
   ],
   "source": [
    "# Membagi setiap kata dalam test text kedalam bentuk entity dengan menggunakan displacy\n",
    "doc = loaded_model(test_text)\n",
    "displacy.render(doc, style=\"ent\")"
   ]
  },
  {
   "cell_type": "code",
   "execution_count": 32,
   "metadata": {},
   "outputs": [
    {
     "data": {
      "text/plain": [
       "'Ia menjabat sebagai Presiden ketiga Mesir'"
      ]
     },
     "execution_count": 32,
     "metadata": {},
     "output_type": "execute_result"
    }
   ],
   "source": [
    "test_text"
   ]
  },
  {
   "cell_type": "code",
   "execution_count": 33,
   "metadata": {},
   "outputs": [
    {
     "name": "stdout",
     "output_type": "stream",
     "text": [
      "Mesir 31 36 place\n"
     ]
    }
   ],
   "source": [
    "# hasil test dari model\n",
    "# dapat kita lihat, bahwa model dapat memberikan tag pada entitas dengan menandai Mesir sebagai place\n",
    "for ent in doc.ents:\n",
    "    print(ent.text, ent.start_char, ent.end_char, ent.label_)"
   ]
  }
 ],
 "metadata": {
  "kernelspec": {
   "display_name": "Python 3",
   "language": "python",
   "name": "python3"
  },
  "language_info": {
   "codemirror_mode": {
    "name": "ipython",
    "version": 3
   },
   "file_extension": ".py",
   "mimetype": "text/x-python",
   "name": "python",
   "nbconvert_exporter": "python",
   "pygments_lexer": "ipython3",
   "version": "3.8.3"
  }
 },
 "nbformat": 4,
 "nbformat_minor": 4
}
